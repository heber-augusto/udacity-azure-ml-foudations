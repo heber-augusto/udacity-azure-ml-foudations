{
  "nbformat": 4,
  "nbformat_minor": 0,
  "metadata": {
    "colab": {
      "name": "lab1-linear-regression-model-nyc-taxi-and-limousine.ipynb",
      "provenance": [],
      "collapsed_sections": [],
      "authorship_tag": "ABX9TyNgzKU99YT/HhEm7Z9nMdaR",
      "include_colab_link": true
    },
    "kernelspec": {
      "name": "python3",
      "display_name": "Python 3"
    }
  },
  "cells": [
    {
      "cell_type": "markdown",
      "metadata": {
        "id": "view-in-github",
        "colab_type": "text"
      },
      "source": [
        "<a href=\"https://colab.research.google.com/github/heber-augusto/udacity-azure-ml-foudations/blob/master/lab1_linear_regression_model_nyc_taxi_and_limousine.ipynb\" target=\"_parent\"><img src=\"https://colab.research.google.com/assets/colab-badge.svg\" alt=\"Open In Colab\"/></a>"
      ]
    },
    {
      "cell_type": "markdown",
      "metadata": {
        "id": "7qXfQRooacEW",
        "colab_type": "text"
      },
      "source": [
        "This jupyter notebook was created to compare the effort of doing machine learing tasks without Azure Machine Learning Studio's tools.\n",
        "\n",
        "The goal at this notebook is to train a linear regression model from one of Azure Open Dataset: NYC Taxi & Limousine Commission - green taxi trip records\n",
        "\n",
        "A detailed description for this dataset can be found at the link below. \n",
        "\n",
        "https://azure.microsoft.com/en-us/services/open-datasets/catalog/nyc-taxi-limousine-commission-green-taxi-trip-records/\n",
        "\n",
        "The dataset used can be found at:  https://introtomlsampledata.blob.core.windows.net/data/nyc-taxi/nyc-taxi-sample-data.csv\n",
        "\n",
        "This notebook demonstrate:\n",
        "\n",
        "1. Getting the dataset and creating dataframe from csv file;\n",
        "1. Presents some dataset explorations to undestand data;\n",
        "1. Splitting the dataframe for training;\n",
        "1. Training a linear regression model.\n",
        "\n",
        "The output feature from this dataset is the TotalAmount\n"
      ]
    },
    {
      "cell_type": "markdown",
      "metadata": {
        "id": "OzXIfYBOeqW3",
        "colab_type": "text"
      },
      "source": [
        "The cell bellow contains some libraries and some essencial defines for the task"
      ]
    },
    {
      "cell_type": "code",
      "metadata": {
        "id": "B59OU7Mfadzg",
        "colab_type": "code",
        "colab": {}
      },
      "source": [
        "import pandas as pd\n",
        "url=\"https://introtomlsampledata.blob.core.windows.net/data/nyc-taxi/nyc-taxi-sample-data.csv\"\n",
        "\n"
      ],
      "execution_count": 1,
      "outputs": []
    },
    {
      "cell_type": "markdown",
      "metadata": {
        "id": "LumMq9_5ddWo",
        "colab_type": "text"
      },
      "source": [
        "**Step 1: Getting the dataset and creating dataframe from csv file**\n",
        "\n",
        "The dataset can be obtained from the url https://introtomlsampledata.blob.core.windows.net/data/nyc-taxi/nyc-taxi-sample-data.csv\n",
        "\n",
        "The pandas library has a method which does this: read_csv()\n",
        "\n",
        "So we will use it and pass the url "
      ]
    },
    {
      "cell_type": "code",
      "metadata": {
        "id": "qLvB2LlEe4iF",
        "colab_type": "code",
        "colab": {}
      },
      "source": [
        "nyc_taxi_dataframe = pd.read_csv(url)\n"
      ],
      "execution_count": 5,
      "outputs": []
    },
    {
      "cell_type": "markdown",
      "metadata": {
        "id": "BlUx_OXUhB5A",
        "colab_type": "text"
      },
      "source": [
        "**Presents some dataset explorations to undestand data**\n",
        "\n",
        "The following cells presents:\n",
        " \n",
        "*  Some basic statics information (using dataframe describe method)\n",
        "*  Correlation information \n",
        "\n"
      ]
    },
    {
      "cell_type": "code",
      "metadata": {
        "id": "8b4p7091e7GD",
        "colab_type": "code",
        "colab": {
          "base_uri": "https://localhost:8080/",
          "height": 297
        },
        "outputId": "3e6623a4-21de-4873-dfd9-9b6ed7ae58ab"
      },
      "source": [
        "nyc_taxi_dataframe.describe()"
      ],
      "execution_count": 8,
      "outputs": [
        {
          "output_type": "execute_result",
          "data": {
            "text/html": [
              "<div>\n",
              "<style scoped>\n",
              "    .dataframe tbody tr th:only-of-type {\n",
              "        vertical-align: middle;\n",
              "    }\n",
              "\n",
              "    .dataframe tbody tr th {\n",
              "        vertical-align: top;\n",
              "    }\n",
              "\n",
              "    .dataframe thead th {\n",
              "        text-align: right;\n",
              "    }\n",
              "</style>\n",
              "<table border=\"1\" class=\"dataframe\">\n",
              "  <thead>\n",
              "    <tr style=\"text-align: right;\">\n",
              "      <th></th>\n",
              "      <th>vendorID</th>\n",
              "      <th>passengerCount</th>\n",
              "      <th>tripDistance</th>\n",
              "      <th>hour_of_day</th>\n",
              "      <th>day_of_week</th>\n",
              "      <th>day_of_month</th>\n",
              "      <th>month_num</th>\n",
              "      <th>snowDepth</th>\n",
              "      <th>precipTime</th>\n",
              "      <th>precipDepth</th>\n",
              "      <th>temperature</th>\n",
              "      <th>totalAmount</th>\n",
              "    </tr>\n",
              "  </thead>\n",
              "  <tbody>\n",
              "    <tr>\n",
              "      <th>count</th>\n",
              "      <td>11734.000000</td>\n",
              "      <td>11734.000000</td>\n",
              "      <td>11734.000000</td>\n",
              "      <td>11734.000000</td>\n",
              "      <td>11734.000000</td>\n",
              "      <td>11734.000000</td>\n",
              "      <td>11734.000000</td>\n",
              "      <td>11734.000000</td>\n",
              "      <td>11734.000000</td>\n",
              "      <td>11734.000000</td>\n",
              "      <td>11734.000000</td>\n",
              "      <td>11734.000000</td>\n",
              "    </tr>\n",
              "    <tr>\n",
              "      <th>mean</th>\n",
              "      <td>1.790608</td>\n",
              "      <td>1.348560</td>\n",
              "      <td>2.866139</td>\n",
              "      <td>13.633884</td>\n",
              "      <td>3.223879</td>\n",
              "      <td>15.000256</td>\n",
              "      <td>3.502898</td>\n",
              "      <td>1.609015</td>\n",
              "      <td>12.028379</td>\n",
              "      <td>190.782342</td>\n",
              "      <td>10.314244</td>\n",
              "      <td>14.733528</td>\n",
              "    </tr>\n",
              "    <tr>\n",
              "      <th>std</th>\n",
              "      <td>0.406892</td>\n",
              "      <td>1.016123</td>\n",
              "      <td>2.905810</td>\n",
              "      <td>6.670530</td>\n",
              "      <td>1.961855</td>\n",
              "      <td>8.467892</td>\n",
              "      <td>1.707729</td>\n",
              "      <td>7.146771</td>\n",
              "      <td>10.158597</td>\n",
              "      <td>1211.087724</td>\n",
              "      <td>8.500600</td>\n",
              "      <td>10.983099</td>\n",
              "    </tr>\n",
              "    <tr>\n",
              "      <th>min</th>\n",
              "      <td>1.000000</td>\n",
              "      <td>1.000000</td>\n",
              "      <td>0.010000</td>\n",
              "      <td>0.000000</td>\n",
              "      <td>0.000000</td>\n",
              "      <td>1.000000</td>\n",
              "      <td>1.000000</td>\n",
              "      <td>0.000000</td>\n",
              "      <td>1.000000</td>\n",
              "      <td>0.000000</td>\n",
              "      <td>-13.379464</td>\n",
              "      <td>3.300000</td>\n",
              "    </tr>\n",
              "    <tr>\n",
              "      <th>25%</th>\n",
              "      <td>2.000000</td>\n",
              "      <td>1.000000</td>\n",
              "      <td>1.060000</td>\n",
              "      <td>9.000000</td>\n",
              "      <td>2.000000</td>\n",
              "      <td>8.000000</td>\n",
              "      <td>2.000000</td>\n",
              "      <td>0.000000</td>\n",
              "      <td>1.000000</td>\n",
              "      <td>0.000000</td>\n",
              "      <td>3.566372</td>\n",
              "      <td>8.150000</td>\n",
              "    </tr>\n",
              "    <tr>\n",
              "      <th>50%</th>\n",
              "      <td>2.000000</td>\n",
              "      <td>1.000000</td>\n",
              "      <td>1.900000</td>\n",
              "      <td>15.000000</td>\n",
              "      <td>3.000000</td>\n",
              "      <td>15.000000</td>\n",
              "      <td>4.000000</td>\n",
              "      <td>0.000000</td>\n",
              "      <td>6.000000</td>\n",
              "      <td>3.000000</td>\n",
              "      <td>10.318229</td>\n",
              "      <td>11.300000</td>\n",
              "    </tr>\n",
              "    <tr>\n",
              "      <th>75%</th>\n",
              "      <td>2.000000</td>\n",
              "      <td>1.000000</td>\n",
              "      <td>3.620000</td>\n",
              "      <td>19.000000</td>\n",
              "      <td>5.000000</td>\n",
              "      <td>22.000000</td>\n",
              "      <td>5.000000</td>\n",
              "      <td>0.000000</td>\n",
              "      <td>24.000000</td>\n",
              "      <td>41.000000</td>\n",
              "      <td>17.239744</td>\n",
              "      <td>17.800000</td>\n",
              "    </tr>\n",
              "    <tr>\n",
              "      <th>max</th>\n",
              "      <td>2.000000</td>\n",
              "      <td>6.000000</td>\n",
              "      <td>62.550000</td>\n",
              "      <td>23.000000</td>\n",
              "      <td>6.000000</td>\n",
              "      <td>30.000000</td>\n",
              "      <td>6.000000</td>\n",
              "      <td>67.090909</td>\n",
              "      <td>24.000000</td>\n",
              "      <td>9999.000000</td>\n",
              "      <td>26.524107</td>\n",
              "      <td>339.380000</td>\n",
              "    </tr>\n",
              "  </tbody>\n",
              "</table>\n",
              "</div>"
            ],
            "text/plain": [
              "           vendorID  passengerCount  ...   temperature   totalAmount\n",
              "count  11734.000000    11734.000000  ...  11734.000000  11734.000000\n",
              "mean       1.790608        1.348560  ...     10.314244     14.733528\n",
              "std        0.406892        1.016123  ...      8.500600     10.983099\n",
              "min        1.000000        1.000000  ...    -13.379464      3.300000\n",
              "25%        2.000000        1.000000  ...      3.566372      8.150000\n",
              "50%        2.000000        1.000000  ...     10.318229     11.300000\n",
              "75%        2.000000        1.000000  ...     17.239744     17.800000\n",
              "max        2.000000        6.000000  ...     26.524107    339.380000\n",
              "\n",
              "[8 rows x 12 columns]"
            ]
          },
          "metadata": {
            "tags": []
          },
          "execution_count": 8
        }
      ]
    },
    {
      "cell_type": "code",
      "metadata": {
        "id": "fnrzme-4fvNU",
        "colab_type": "code",
        "colab": {}
      },
      "source": [
        ""
      ],
      "execution_count": null,
      "outputs": []
    }
  ]
}