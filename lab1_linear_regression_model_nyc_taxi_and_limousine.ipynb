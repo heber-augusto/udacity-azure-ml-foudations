{
  "nbformat": 4,
  "nbformat_minor": 0,
  "metadata": {
    "colab": {
      "name": "lab1-linear-regression-model-nyc-taxi-and-limousine.ipynb",
      "provenance": [],
      "collapsed_sections": [],
      "authorship_tag": "ABX9TyNfgqRz4WGppyoxNdrvQQhk",
      "include_colab_link": true
    },
    "kernelspec": {
      "name": "python3",
      "display_name": "Python 3"
    }
  },
  "cells": [
    {
      "cell_type": "markdown",
      "metadata": {
        "id": "view-in-github",
        "colab_type": "text"
      },
      "source": [
        "<a href=\"https://colab.research.google.com/github/heber-augusto/udacity-azure-ml-foudations/blob/master/lab1_linear_regression_model_nyc_taxi_and_limousine.ipynb\" target=\"_parent\"><img src=\"https://colab.research.google.com/assets/colab-badge.svg\" alt=\"Open In Colab\"/></a>"
      ]
    },
    {
      "cell_type": "markdown",
      "metadata": {
        "id": "7qXfQRooacEW",
        "colab_type": "text"
      },
      "source": [
        "This jupyter notebook was created to compare the effort of doing machine learing tasks without Azure Machine Learning Studio's tools.\n",
        "\n",
        "The goal at this notebook is to train a linear regression model from one of Azure Open Dataset: NYC Taxi & Limousine Commission - green taxi trip records\n",
        "\n",
        "A detailed description for this dataset can be found at the link below. \n",
        "\n",
        "https://azure.microsoft.com/en-us/services/open-datasets/catalog/nyc-taxi-limousine-commission-green-taxi-trip-records/\n",
        "\n",
        "The dataset used can be found at:  https://introtomlsampledata.blob.core.windows.net/data/nyc-taxi/nyc-taxi-sample-data.csv\n",
        "\n",
        "This notebook demonstrate:\n",
        "\n",
        "1. Getting the dataset and creating dataframe from csv file;\n",
        "1. Presents some dataset explorations to undestand data;\n",
        "1. Splitting the dataframe for training;\n",
        "1. Training a linear regression model;\n",
        "1. Plot some results.\n",
        "\n",
        "The output feature from this dataset is the TotalAmount\n"
      ]
    },
    {
      "cell_type": "markdown",
      "metadata": {
        "id": "OzXIfYBOeqW3",
        "colab_type": "text"
      },
      "source": [
        "**The cell bellow contains some libraries and some essencial defines for the tasks**\n",
        "\n",
        "*   pandas: create a dataframe from csv file;\n",
        "*   sklearn: split the dataframe between test and train, linear regression trainning and evaluation;\n",
        "* matplotlib: plot some results.\n",
        "\n"
      ]
    },
    {
      "cell_type": "code",
      "metadata": {
        "id": "B59OU7Mfadzg",
        "colab_type": "code",
        "colab": {}
      },
      "source": [
        "import pandas as pd\n",
        "from sklearn.model_selection import train_test_split\n",
        "from sklearn import linear_model\n",
        "from sklearn.metrics import mean_squared_error, mean_absolute_error, r2_score\n",
        "import matplotlib.pyplot as plt\n",
        "\n",
        "\n",
        "url=\"https://introtomlsampledata.blob.core.windows.net/data/nyc-taxi/nyc-taxi-sample-data.csv\"\n",
        "\n"
      ],
      "execution_count": 17,
      "outputs": []
    },
    {
      "cell_type": "markdown",
      "metadata": {
        "id": "LumMq9_5ddWo",
        "colab_type": "text"
      },
      "source": [
        "**Step 1: Getting the dataset and creating dataframe from csv file**\n",
        "\n",
        "The dataset can be obtained from the url https://introtomlsampledata.blob.core.windows.net/data/nyc-taxi/nyc-taxi-sample-data.csv\n",
        "\n",
        "The pandas library has a method which does this: read_csv()\n",
        "\n",
        "So we will use it and pass the url "
      ]
    },
    {
      "cell_type": "code",
      "metadata": {
        "id": "qLvB2LlEe4iF",
        "colab_type": "code",
        "colab": {}
      },
      "source": [
        "nyc_taxi_dataframe = pd.read_csv(url)\n"
      ],
      "execution_count": 3,
      "outputs": []
    },
    {
      "cell_type": "markdown",
      "metadata": {
        "id": "BlUx_OXUhB5A",
        "colab_type": "text"
      },
      "source": [
        "**Step 2: Some dataset explorations to understand data**\n",
        "\n",
        "The following 2 cells presents:\n",
        " \n",
        "*  Some basic statics information (using dataframe describe method)\n",
        "*  Correlation information between TotalAmount column and all the others (corr method)\n",
        "\n",
        "A lot of others analysis can be done but I will list just this two methods outputs.\n",
        "\n"
      ]
    },
    {
      "cell_type": "code",
      "metadata": {
        "id": "8b4p7091e7GD",
        "colab_type": "code",
        "colab": {
          "base_uri": "https://localhost:8080/",
          "height": 297
        },
        "outputId": "57c57d34-e9f5-4917-af8c-5375a6c650be"
      },
      "source": [
        "nyc_taxi_dataframe.describe()"
      ],
      "execution_count": 4,
      "outputs": [
        {
          "output_type": "execute_result",
          "data": {
            "text/html": [
              "<div>\n",
              "<style scoped>\n",
              "    .dataframe tbody tr th:only-of-type {\n",
              "        vertical-align: middle;\n",
              "    }\n",
              "\n",
              "    .dataframe tbody tr th {\n",
              "        vertical-align: top;\n",
              "    }\n",
              "\n",
              "    .dataframe thead th {\n",
              "        text-align: right;\n",
              "    }\n",
              "</style>\n",
              "<table border=\"1\" class=\"dataframe\">\n",
              "  <thead>\n",
              "    <tr style=\"text-align: right;\">\n",
              "      <th></th>\n",
              "      <th>vendorID</th>\n",
              "      <th>passengerCount</th>\n",
              "      <th>tripDistance</th>\n",
              "      <th>hour_of_day</th>\n",
              "      <th>day_of_week</th>\n",
              "      <th>day_of_month</th>\n",
              "      <th>month_num</th>\n",
              "      <th>snowDepth</th>\n",
              "      <th>precipTime</th>\n",
              "      <th>precipDepth</th>\n",
              "      <th>temperature</th>\n",
              "      <th>totalAmount</th>\n",
              "    </tr>\n",
              "  </thead>\n",
              "  <tbody>\n",
              "    <tr>\n",
              "      <th>count</th>\n",
              "      <td>11734.000000</td>\n",
              "      <td>11734.000000</td>\n",
              "      <td>11734.000000</td>\n",
              "      <td>11734.000000</td>\n",
              "      <td>11734.000000</td>\n",
              "      <td>11734.000000</td>\n",
              "      <td>11734.000000</td>\n",
              "      <td>11734.000000</td>\n",
              "      <td>11734.000000</td>\n",
              "      <td>11734.000000</td>\n",
              "      <td>11734.000000</td>\n",
              "      <td>11734.000000</td>\n",
              "    </tr>\n",
              "    <tr>\n",
              "      <th>mean</th>\n",
              "      <td>1.790608</td>\n",
              "      <td>1.348560</td>\n",
              "      <td>2.866139</td>\n",
              "      <td>13.633884</td>\n",
              "      <td>3.223879</td>\n",
              "      <td>15.000256</td>\n",
              "      <td>3.502898</td>\n",
              "      <td>1.609015</td>\n",
              "      <td>12.028379</td>\n",
              "      <td>190.782342</td>\n",
              "      <td>10.314244</td>\n",
              "      <td>14.733528</td>\n",
              "    </tr>\n",
              "    <tr>\n",
              "      <th>std</th>\n",
              "      <td>0.406892</td>\n",
              "      <td>1.016123</td>\n",
              "      <td>2.905810</td>\n",
              "      <td>6.670530</td>\n",
              "      <td>1.961855</td>\n",
              "      <td>8.467892</td>\n",
              "      <td>1.707729</td>\n",
              "      <td>7.146771</td>\n",
              "      <td>10.158597</td>\n",
              "      <td>1211.087724</td>\n",
              "      <td>8.500600</td>\n",
              "      <td>10.983099</td>\n",
              "    </tr>\n",
              "    <tr>\n",
              "      <th>min</th>\n",
              "      <td>1.000000</td>\n",
              "      <td>1.000000</td>\n",
              "      <td>0.010000</td>\n",
              "      <td>0.000000</td>\n",
              "      <td>0.000000</td>\n",
              "      <td>1.000000</td>\n",
              "      <td>1.000000</td>\n",
              "      <td>0.000000</td>\n",
              "      <td>1.000000</td>\n",
              "      <td>0.000000</td>\n",
              "      <td>-13.379464</td>\n",
              "      <td>3.300000</td>\n",
              "    </tr>\n",
              "    <tr>\n",
              "      <th>25%</th>\n",
              "      <td>2.000000</td>\n",
              "      <td>1.000000</td>\n",
              "      <td>1.060000</td>\n",
              "      <td>9.000000</td>\n",
              "      <td>2.000000</td>\n",
              "      <td>8.000000</td>\n",
              "      <td>2.000000</td>\n",
              "      <td>0.000000</td>\n",
              "      <td>1.000000</td>\n",
              "      <td>0.000000</td>\n",
              "      <td>3.566372</td>\n",
              "      <td>8.150000</td>\n",
              "    </tr>\n",
              "    <tr>\n",
              "      <th>50%</th>\n",
              "      <td>2.000000</td>\n",
              "      <td>1.000000</td>\n",
              "      <td>1.900000</td>\n",
              "      <td>15.000000</td>\n",
              "      <td>3.000000</td>\n",
              "      <td>15.000000</td>\n",
              "      <td>4.000000</td>\n",
              "      <td>0.000000</td>\n",
              "      <td>6.000000</td>\n",
              "      <td>3.000000</td>\n",
              "      <td>10.318229</td>\n",
              "      <td>11.300000</td>\n",
              "    </tr>\n",
              "    <tr>\n",
              "      <th>75%</th>\n",
              "      <td>2.000000</td>\n",
              "      <td>1.000000</td>\n",
              "      <td>3.620000</td>\n",
              "      <td>19.000000</td>\n",
              "      <td>5.000000</td>\n",
              "      <td>22.000000</td>\n",
              "      <td>5.000000</td>\n",
              "      <td>0.000000</td>\n",
              "      <td>24.000000</td>\n",
              "      <td>41.000000</td>\n",
              "      <td>17.239744</td>\n",
              "      <td>17.800000</td>\n",
              "    </tr>\n",
              "    <tr>\n",
              "      <th>max</th>\n",
              "      <td>2.000000</td>\n",
              "      <td>6.000000</td>\n",
              "      <td>62.550000</td>\n",
              "      <td>23.000000</td>\n",
              "      <td>6.000000</td>\n",
              "      <td>30.000000</td>\n",
              "      <td>6.000000</td>\n",
              "      <td>67.090909</td>\n",
              "      <td>24.000000</td>\n",
              "      <td>9999.000000</td>\n",
              "      <td>26.524107</td>\n",
              "      <td>339.380000</td>\n",
              "    </tr>\n",
              "  </tbody>\n",
              "</table>\n",
              "</div>"
            ],
            "text/plain": [
              "           vendorID  passengerCount  ...   temperature   totalAmount\n",
              "count  11734.000000    11734.000000  ...  11734.000000  11734.000000\n",
              "mean       1.790608        1.348560  ...     10.314244     14.733528\n",
              "std        0.406892        1.016123  ...      8.500600     10.983099\n",
              "min        1.000000        1.000000  ...    -13.379464      3.300000\n",
              "25%        2.000000        1.000000  ...      3.566372      8.150000\n",
              "50%        2.000000        1.000000  ...     10.318229     11.300000\n",
              "75%        2.000000        1.000000  ...     17.239744     17.800000\n",
              "max        2.000000        6.000000  ...     26.524107    339.380000\n",
              "\n",
              "[8 rows x 12 columns]"
            ]
          },
          "metadata": {
            "tags": []
          },
          "execution_count": 4
        }
      ]
    },
    {
      "cell_type": "code",
      "metadata": {
        "id": "fnrzme-4fvNU",
        "colab_type": "code",
        "colab": {
          "base_uri": "https://localhost:8080/",
          "height": 255
        },
        "outputId": "96e624f1-57c0-4c40-ec05-600cfc0e57af"
      },
      "source": [
        "nyc_taxi_dataframe.corr()['totalAmount'].sort_values(ascending=False)"
      ],
      "execution_count": 12,
      "outputs": [
        {
          "output_type": "execute_result",
          "data": {
            "text/plain": [
              "totalAmount       1.000000\n",
              "tripDistance      0.913318\n",
              "temperature       0.024572\n",
              "passengerCount    0.012265\n",
              "month_num         0.012183\n",
              "day_of_month      0.011489\n",
              "snowDepth         0.011220\n",
              "day_of_week       0.006714\n",
              "precipTime        0.003953\n",
              "isPaidTimeOff    -0.001369\n",
              "vendorID         -0.005318\n",
              "precipDepth      -0.009635\n",
              "hour_of_day      -0.028296\n",
              "Name: totalAmount, dtype: float64"
            ]
          },
          "metadata": {
            "tags": []
          },
          "execution_count": 12
        }
      ]
    },
    {
      "cell_type": "markdown",
      "metadata": {
        "id": "6LcrvuTCkpQc",
        "colab_type": "text"
      },
      "source": [
        "**Setp 3: Splitting the dataframe for training**\n",
        "\n",
        "For the splitting task we will use train_test_split scikit-learn method\n",
        "The dataframe was splitted considering 70% of it for trainning and the rest to evaluate the results.\n"
      ]
    },
    {
      "cell_type": "code",
      "metadata": {
        "id": "-eC_UQa0j3qC",
        "colab_type": "code",
        "colab": {}
      },
      "source": [
        "# create X and y removing totalAmount from columns\n",
        "y = nyc_taxi_dataframe[['totalAmount']]\n",
        "# the totalAmount was dropped because it represents the output and the \n",
        "X = nyc_taxi_dataframe.drop(\n",
        "    labels=['totalAmount',], \n",
        "    axis=1)\n",
        "\n",
        "# the normalizeHolidayName was transformed to avoid \"ValueError\" during fit\n",
        "X['normalizeHolidayName'] = X['normalizeHolidayName'] != 'None'\n",
        "\n",
        "X_train, X_test, y_train, y_test = train_test_split(\n",
        "    X, \n",
        "    y, \n",
        "    train_size=0.7, \n",
        "    random_state=42)"
      ],
      "execution_count": 33,
      "outputs": []
    },
    {
      "cell_type": "markdown",
      "metadata": {
        "id": "b3JU21fbqWxy",
        "colab_type": "text"
      },
      "source": [
        "**Step 4: Training a linear regression model**\n",
        "\n",
        "For the training task I used the linear_model.LinearRegression class from scikit learn \n"
      ]
    },
    {
      "cell_type": "code",
      "metadata": {
        "id": "dxi8gkoqm7YP",
        "colab_type": "code",
        "colab": {
          "base_uri": "https://localhost:8080/",
          "height": 153
        },
        "outputId": "182998e9-013e-4477-87ef-cc6fda73779b"
      },
      "source": [
        "# Create linear regression object\n",
        "regr = linear_model.LinearRegression()\n",
        "\n",
        "# Train the model using the training sets\n",
        "regr.fit(X_train, y_train)\n",
        "\n",
        "# Make predictions using the testing set\n",
        "y_pred = regr.predict(X_test)\n",
        "\n",
        "# The coefficients\n",
        "print('Coefficients: \\n', regr.coef_)\n",
        "\n",
        "# The mean squared error\n",
        "print('Mean absolute error: %.2f'\n",
        "      % mean_absolute_error(y_test, y_pred))\n",
        "\n",
        "# The mean squared error\n",
        "print('Root Mean squared error: %.2f'\n",
        "      % mean_squared_error(y_test, y_pred, squared = False))\n",
        "\n",
        "# The coefficient of determination: 1 is perfect prediction\n",
        "print('Coefficient of determination: %.2f'\n",
        "      % r2_score(y_test, y_pred))\n"
      ],
      "execution_count": 35,
      "outputs": [
        {
          "output_type": "stream",
          "text": [
            "Coefficients: \n",
            " [[-1.24828486e-02  6.23017683e-03  3.49049008e+00  3.37548385e-02\n",
            "  -8.23650992e-02 -6.45979472e-03  4.61321297e-02 -4.75757117e-01\n",
            "  -4.75757117e-01  8.84343123e-03  5.13305607e-03 -5.18558249e-05\n",
            "   2.34623511e-03]]\n",
            "Root Mean squared error: 3.65\n",
            "Mean absolute error: 2.10\n",
            "Coefficient of determination: 0.87\n"
          ],
          "name": "stdout"
        }
      ]
    },
    {
      "cell_type": "markdown",
      "metadata": {
        "id": "-TFHzcuex1cp",
        "colab_type": "text"
      },
      "source": [
        "**Step 5: Plot some results**"
      ]
    },
    {
      "cell_type": "code",
      "metadata": {
        "id": "X6p4Sqrjp6X8",
        "colab_type": "code",
        "colab": {
          "base_uri": "https://localhost:8080/",
          "height": 486
        },
        "outputId": "14757b81-277b-4059-8e6d-ddf22ee8c8cc"
      },
      "source": [
        "# Plot outputs\n",
        "plt.scatter(X_test, y_test,  color='black')\n",
        "plt.plot(X_test, y_pred, color='blue', linewidth=3)"
      ],
      "execution_count": 38,
      "outputs": [
        {
          "output_type": "execute_result",
          "data": {
            "text/plain": [
              "[<matplotlib.lines.Line2D at 0x7fc904431a90>,\n",
              " <matplotlib.lines.Line2D at 0x7fc904431ba8>,\n",
              " <matplotlib.lines.Line2D at 0x7fc904431cf8>,\n",
              " <matplotlib.lines.Line2D at 0x7fc904431e48>,\n",
              " <matplotlib.lines.Line2D at 0x7fc904431f98>,\n",
              " <matplotlib.lines.Line2D at 0x7fc9043a8128>,\n",
              " <matplotlib.lines.Line2D at 0x7fc9043a8278>,\n",
              " <matplotlib.lines.Line2D at 0x7fc9043a83c8>,\n",
              " <matplotlib.lines.Line2D at 0x7fc9043a8518>,\n",
              " <matplotlib.lines.Line2D at 0x7fc9043a8668>,\n",
              " <matplotlib.lines.Line2D at 0x7fc9043a87b8>,\n",
              " <matplotlib.lines.Line2D at 0x7fc9043a8908>,\n",
              " <matplotlib.lines.Line2D at 0x7fc9043a8a58>]"
            ]
          },
          "metadata": {
            "tags": []
          },
          "execution_count": 38
        },
        {
          "output_type": "display_data",
          "data": {
            "image/png": "[encoded data removed]",
            "text/plain": [
              "<Figure size 432x288 with 1 Axes>"
            ]
          },
          "metadata": {
            "tags": [],
            "needs_background": "light"
          }
        }
      ]
    },
    {
      "cell_type": "code",
      "metadata": {
        "id": "49GqeitjrPjl",
        "colab_type": "code",
        "colab": {}
      },
      "source": [
        ""
      ],
      "execution_count": null,
      "outputs": []
    }
  ]
}