{
  "nbformat": 4,
  "nbformat_minor": 0,
  "metadata": {
    "colab": {
      "name": "lab1-linear-regression-model-nyc-taxi-and-limousine.ipynb",
      "provenance": [],
      "collapsed_sections": [],
      "authorship_tag": "ABX9TyNlUzzn8fnWwUS98KpW3Tuu",
      "include_colab_link": true
    },
    "kernelspec": {
      "name": "python3",
      "display_name": "Python 3"
    }
  },
  "cells": [
    {
      "cell_type": "markdown",
      "metadata": {
        "id": "view-in-github",
        "colab_type": "text"
      },
      "source": [
        "<a href=\"https://colab.research.google.com/github/heber-augusto/udacity-azure-ml-foudations/blob/master/lab1_linear_regression_model_nyc_taxi_and_limousine.ipynb\" target=\"_parent\"><img src=\"https://colab.research.google.com/assets/colab-badge.svg\" alt=\"Open In Colab\"/></a>"
      ]
    },
    {
      "cell_type": "markdown",
      "metadata": {
        "id": "7qXfQRooacEW",
        "colab_type": "text"
      },
      "source": [
        "This jupyter notebook was created to compare the effort of doing machine learing tasks without Azure Machine Learning Studio's tools.\n",
        "\n",
        "The goal at this notebook is to train a linear regression model from one of Azure Open Dataset: NYC Taxi & Limousine Commission - green taxi trip records\n",
        "\n",
        "A detailed description for this dataset can be found at the link below. \n",
        "\n",
        "https://azure.microsoft.com/en-us/services/open-datasets/catalog/nyc-taxi-limousine-commission-green-taxi-trip-records/\n",
        "\n",
        "The dataset used can be found at:  https://introtomlsampledata.blob.core.windows.net/data/nyc-taxi/nyc-taxi-sample-data.csv\n",
        "\n",
        "This notebook demonstrate:\n",
        "\n",
        "1. Getting the dataset and creating dataframe from csv file;\n",
        "1. Presents some dataset explorations to undestand data;\n",
        "1. Splitting the dataframe for training;\n",
        "1. Training a linear regression model.\n",
        "\n",
        "The output feature from this dataset is the TotalAmount\n"
      ]
    },
    {
      "cell_type": "markdown",
      "metadata": {
        "id": "OzXIfYBOeqW3",
        "colab_type": "text"
      },
      "source": [
        "**The cell bellow contains some libraries and some essencial defines for the tasks**\n",
        "\n",
        "*   pandas: create a dataframe from csv file;\n",
        "*   sklearn: split the dataframe between test and train, linear regression trainning and evaluation;\n",
        "* matplotlib: plot some results.\n",
        "\n"
      ]
    },
    {
      "cell_type": "code",
      "metadata": {
        "id": "B59OU7Mfadzg",
        "colab_type": "code",
        "colab": {}
      },
      "source": [
        "import pandas as pd\n",
        "from sklearn.model_selection import train_test_split\n",
        "from sklearn import linear_model\n",
        "from sklearn.metrics import mean_squared_error, mean_absolute_error, r2_score\n",
        "import matplotlib.pyplot as plt\n",
        "\n",
        "\n",
        "url=\"https://introtomlsampledata.blob.core.windows.net/data/nyc-taxi/nyc-taxi-sample-data.csv\"\n",
        "\n"
      ],
      "execution_count": 17,
      "outputs": []
    },
    {
      "cell_type": "markdown",
      "metadata": {
        "id": "LumMq9_5ddWo",
        "colab_type": "text"
      },
      "source": [
        "**Step 1: Getting the dataset and creating dataframe from csv file**\n",
        "\n",
        "The dataset can be obtained from the url https://introtomlsampledata.blob.core.windows.net/data/nyc-taxi/nyc-taxi-sample-data.csv\n",
        "\n",
        "The pandas library has a method which does this: read_csv()\n",
        "\n",
        "So we will use it and pass the url "
      ]
    },
    {
      "cell_type": "code",
      "metadata": {
        "id": "qLvB2LlEe4iF",
        "colab_type": "code",
        "colab": {}
      },
      "source": [
        "nyc_taxi_dataframe = pd.read_csv(url)\n"
      ],
      "execution_count": 3,
      "outputs": []
    },
    {
      "cell_type": "markdown",
      "metadata": {
        "id": "BlUx_OXUhB5A",
        "colab_type": "text"
      },
      "source": [
        "**Presents some dataset explorations to undestand data**\n",
        "\n",
        "The following 2 cells presents:\n",
        " \n",
        "*  Some basic statics information (using dataframe describe method)\n",
        "*  Correlation information between TotalAmount column and all the others (corr method)\n",
        "\n",
        "A lot of others analysis can be done but I will list just this two methods outputs.\n",
        "\n"
      ]
    },
    {
      "cell_type": "code",
      "metadata": {
        "id": "8b4p7091e7GD",
        "colab_type": "code",
        "colab": {
          "base_uri": "https://localhost:8080/",
          "height": 297
        },
        "outputId": "57c57d34-e9f5-4917-af8c-5375a6c650be"
      },
      "source": [
        "nyc_taxi_dataframe.describe()"
      ],
      "execution_count": 4,
      "outputs": [
        {
          "output_type": "execute_result",
          "data": {
            "text/html": [
              "<div>\n",
              "<style scoped>\n",
              "    .dataframe tbody tr th:only-of-type {\n",
              "        vertical-align: middle;\n",
              "    }\n",
              "\n",
              "    .dataframe tbody tr th {\n",
              "        vertical-align: top;\n",
              "    }\n",
              "\n",
              "    .dataframe thead th {\n",
              "        text-align: right;\n",
              "    }\n",
              "</style>\n",
              "<table border=\"1\" class=\"dataframe\">\n",
              "  <thead>\n",
              "    <tr style=\"text-align: right;\">\n",
              "      <th></th>\n",
              "      <th>vendorID</th>\n",
              "      <th>passengerCount</th>\n",
              "      <th>tripDistance</th>\n",
              "      <th>hour_of_day</th>\n",
              "      <th>day_of_week</th>\n",
              "      <th>day_of_month</th>\n",
              "      <th>month_num</th>\n",
              "      <th>snowDepth</th>\n",
              "      <th>precipTime</th>\n",
              "      <th>precipDepth</th>\n",
              "      <th>temperature</th>\n",
              "      <th>totalAmount</th>\n",
              "    </tr>\n",
              "  </thead>\n",
              "  <tbody>\n",
              "    <tr>\n",
              "      <th>count</th>\n",
              "      <td>11734.000000</td>\n",
              "      <td>11734.000000</td>\n",
              "      <td>11734.000000</td>\n",
              "      <td>11734.000000</td>\n",
              "      <td>11734.000000</td>\n",
              "      <td>11734.000000</td>\n",
              "      <td>11734.000000</td>\n",
              "      <td>11734.000000</td>\n",
              "      <td>11734.000000</td>\n",
              "      <td>11734.000000</td>\n",
              "      <td>11734.000000</td>\n",
              "      <td>11734.000000</td>\n",
              "    </tr>\n",
              "    <tr>\n",
              "      <th>mean</th>\n",
              "      <td>1.790608</td>\n",
              "      <td>1.348560</td>\n",
              "      <td>2.866139</td>\n",
              "      <td>13.633884</td>\n",
              "      <td>3.223879</td>\n",
              "      <td>15.000256</td>\n",
              "      <td>3.502898</td>\n",
              "      <td>1.609015</td>\n",
              "      <td>12.028379</td>\n",
              "      <td>190.782342</td>\n",
              "      <td>10.314244</td>\n",
              "      <td>14.733528</td>\n",
              "    </tr>\n",
              "    <tr>\n",
              "      <th>std</th>\n",
              "      <td>0.406892</td>\n",
              "      <td>1.016123</td>\n",
              "      <td>2.905810</td>\n",
              "      <td>6.670530</td>\n",
              "      <td>1.961855</td>\n",
              "      <td>8.467892</td>\n",
              "      <td>1.707729</td>\n",
              "      <td>7.146771</td>\n",
              "      <td>10.158597</td>\n",
              "      <td>1211.087724</td>\n",
              "      <td>8.500600</td>\n",
              "      <td>10.983099</td>\n",
              "    </tr>\n",
              "    <tr>\n",
              "      <th>min</th>\n",
              "      <td>1.000000</td>\n",
              "      <td>1.000000</td>\n",
              "      <td>0.010000</td>\n",
              "      <td>0.000000</td>\n",
              "      <td>0.000000</td>\n",
              "      <td>1.000000</td>\n",
              "      <td>1.000000</td>\n",
              "      <td>0.000000</td>\n",
              "      <td>1.000000</td>\n",
              "      <td>0.000000</td>\n",
              "      <td>-13.379464</td>\n",
              "      <td>3.300000</td>\n",
              "    </tr>\n",
              "    <tr>\n",
              "      <th>25%</th>\n",
              "      <td>2.000000</td>\n",
              "      <td>1.000000</td>\n",
              "      <td>1.060000</td>\n",
              "      <td>9.000000</td>\n",
              "      <td>2.000000</td>\n",
              "      <td>8.000000</td>\n",
              "      <td>2.000000</td>\n",
              "      <td>0.000000</td>\n",
              "      <td>1.000000</td>\n",
              "      <td>0.000000</td>\n",
              "      <td>3.566372</td>\n",
              "      <td>8.150000</td>\n",
              "    </tr>\n",
              "    <tr>\n",
              "      <th>50%</th>\n",
              "      <td>2.000000</td>\n",
              "      <td>1.000000</td>\n",
              "      <td>1.900000</td>\n",
              "      <td>15.000000</td>\n",
              "      <td>3.000000</td>\n",
              "      <td>15.000000</td>\n",
              "      <td>4.000000</td>\n",
              "      <td>0.000000</td>\n",
              "      <td>6.000000</td>\n",
              "      <td>3.000000</td>\n",
              "      <td>10.318229</td>\n",
              "      <td>11.300000</td>\n",
              "    </tr>\n",
              "    <tr>\n",
              "      <th>75%</th>\n",
              "      <td>2.000000</td>\n",
              "      <td>1.000000</td>\n",
              "      <td>3.620000</td>\n",
              "      <td>19.000000</td>\n",
              "      <td>5.000000</td>\n",
              "      <td>22.000000</td>\n",
              "      <td>5.000000</td>\n",
              "      <td>0.000000</td>\n",
              "      <td>24.000000</td>\n",
              "      <td>41.000000</td>\n",
              "      <td>17.239744</td>\n",
              "      <td>17.800000</td>\n",
              "    </tr>\n",
              "    <tr>\n",
              "      <th>max</th>\n",
              "      <td>2.000000</td>\n",
              "      <td>6.000000</td>\n",
              "      <td>62.550000</td>\n",
              "      <td>23.000000</td>\n",
              "      <td>6.000000</td>\n",
              "      <td>30.000000</td>\n",
              "      <td>6.000000</td>\n",
              "      <td>67.090909</td>\n",
              "      <td>24.000000</td>\n",
              "      <td>9999.000000</td>\n",
              "      <td>26.524107</td>\n",
              "      <td>339.380000</td>\n",
              "    </tr>\n",
              "  </tbody>\n",
              "</table>\n",
              "</div>"
            ],
            "text/plain": [
              "           vendorID  passengerCount  ...   temperature   totalAmount\n",
              "count  11734.000000    11734.000000  ...  11734.000000  11734.000000\n",
              "mean       1.790608        1.348560  ...     10.314244     14.733528\n",
              "std        0.406892        1.016123  ...      8.500600     10.983099\n",
              "min        1.000000        1.000000  ...    -13.379464      3.300000\n",
              "25%        2.000000        1.000000  ...      3.566372      8.150000\n",
              "50%        2.000000        1.000000  ...     10.318229     11.300000\n",
              "75%        2.000000        1.000000  ...     17.239744     17.800000\n",
              "max        2.000000        6.000000  ...     26.524107    339.380000\n",
              "\n",
              "[8 rows x 12 columns]"
            ]
          },
          "metadata": {
            "tags": []
          },
          "execution_count": 4
        }
      ]
    },
    {
      "cell_type": "code",
      "metadata": {
        "id": "fnrzme-4fvNU",
        "colab_type": "code",
        "colab": {
          "base_uri": "https://localhost:8080/",
          "height": 255
        },
        "outputId": "96e624f1-57c0-4c40-ec05-600cfc0e57af"
      },
      "source": [
        "nyc_taxi_dataframe.corr()['totalAmount'].sort_values(ascending=False)"
      ],
      "execution_count": 12,
      "outputs": [
        {
          "output_type": "execute_result",
          "data": {
            "text/plain": [
              "totalAmount       1.000000\n",
              "tripDistance      0.913318\n",
              "temperature       0.024572\n",
              "passengerCount    0.012265\n",
              "month_num         0.012183\n",
              "day_of_month      0.011489\n",
              "snowDepth         0.011220\n",
              "day_of_week       0.006714\n",
              "precipTime        0.003953\n",
              "isPaidTimeOff    -0.001369\n",
              "vendorID         -0.005318\n",
              "precipDepth      -0.009635\n",
              "hour_of_day      -0.028296\n",
              "Name: totalAmount, dtype: float64"
            ]
          },
          "metadata": {
            "tags": []
          },
          "execution_count": 12
        }
      ]
    },
    {
      "cell_type": "markdown",
      "metadata": {
        "id": "6LcrvuTCkpQc",
        "colab_type": "text"
      },
      "source": [
        "**Splitting the dataframe for training**\n",
        "\n",
        "For the splitting task we will use train_test_split scikit-learn method\n",
        "The dataframe was splitted considering 70% of it for trainning and the rest to evaluate the results.\n"
      ]
    },
    {
      "cell_type": "code",
      "metadata": {
        "id": "-eC_UQa0j3qC",
        "colab_type": "code",
        "colab": {}
      },
      "source": [
        "# create X and y removing totalAmount from columns\n",
        "y = nyc_taxi_dataframe[['totalAmount']]\n",
        "# the totalAmount was dropped because it represents the output and the \n",
        "X = nyc_taxi_dataframe.drop(\n",
        "    labels=['totalAmount',], \n",
        "    axis=1)\n",
        "\n",
        "# the normalizeHolidayName was transformad into False or True column to \n",
        "\n",
        "\n",
        "X_train, X_test, y_train, y_test = train_test_split(\n",
        "    X, \n",
        "    y, \n",
        "    train_size=0.7, \n",
        "    random_state=42)"
      ],
      "execution_count": 19,
      "outputs": []
    },
    {
      "cell_type": "markdown",
      "metadata": {
        "id": "b3JU21fbqWxy",
        "colab_type": "text"
      },
      "source": [
        "**Training a linear regression model**\n",
        "\n",
        "For the training task I used the linear_model.LinearRegression class from scikit learn \n"
      ]
    },
    {
      "cell_type": "code",
      "metadata": {
        "id": "dxi8gkoqm7YP",
        "colab_type": "code",
        "colab": {
          "base_uri": "https://localhost:8080/",
          "height": 391
        },
        "outputId": "0f3c298a-20f0-4327-d70e-74086eebfdca"
      },
      "source": [
        "# Create linear regression object\n",
        "regr = linear_model.LinearRegression()\n",
        "\n",
        "# Train the model using the training sets\n",
        "regr.fit(X_train, y_train)\n",
        "\n",
        "# Make predictions using the testing set\n",
        "y_pred = regr.predict(X_test)\n",
        "\n",
        "# The coefficients\n",
        "print('Coefficients: \\n', regr.coef_)\n",
        "# The mean squared error\n",
        "print('Mean squared error: %.2f'\n",
        "      % mean_squared_error(y_test, y_pred))\n",
        "\n",
        "# The mean squared error\n",
        "print('Mean absolute error: %.2f'\n",
        "      % mean_absolute_error(y_test, y_pred))\n",
        "\n",
        "# The coefficient of determination: 1 is perfect prediction\n",
        "print('Coefficient of determination: %.2f'\n",
        "      % r2_score(y_test, y_pred))\n"
      ],
      "execution_count": 21,
      "outputs": [
        {
          "output_type": "error",
          "ename": "ValueError",
          "evalue": "ignored",
          "traceback": [
            "\u001b[0;31m---------------------------------------------------------------------------\u001b[0m",
            "\u001b[0;31mValueError\u001b[0m                                Traceback (most recent call last)",
            "\u001b[0;32m<ipython-input-21-ab60d4317f7e>\u001b[0m in \u001b[0;36m<module>\u001b[0;34m()\u001b[0m\n\u001b[1;32m      3\u001b[0m \u001b[0;34m\u001b[0m\u001b[0m\n\u001b[1;32m      4\u001b[0m \u001b[0;31m# Train the model using the training sets\u001b[0m\u001b[0;34m\u001b[0m\u001b[0;34m\u001b[0m\u001b[0;34m\u001b[0m\u001b[0m\n\u001b[0;32m----> 5\u001b[0;31m \u001b[0mregr\u001b[0m\u001b[0;34m.\u001b[0m\u001b[0mfit\u001b[0m\u001b[0;34m(\u001b[0m\u001b[0mX_train\u001b[0m\u001b[0;34m,\u001b[0m \u001b[0my_train\u001b[0m\u001b[0;34m)\u001b[0m\u001b[0;34m\u001b[0m\u001b[0;34m\u001b[0m\u001b[0m\n\u001b[0m\u001b[1;32m      6\u001b[0m \u001b[0;34m\u001b[0m\u001b[0m\n\u001b[1;32m      7\u001b[0m \u001b[0;31m# Make predictions using the testing set\u001b[0m\u001b[0;34m\u001b[0m\u001b[0;34m\u001b[0m\u001b[0;34m\u001b[0m\u001b[0m\n",
            "\u001b[0;32m/usr/local/lib/python3.6/dist-packages/sklearn/linear_model/_base.py\u001b[0m in \u001b[0;36mfit\u001b[0;34m(self, X, y, sample_weight)\u001b[0m\n\u001b[1;32m    490\u001b[0m         \u001b[0mn_jobs_\u001b[0m \u001b[0;34m=\u001b[0m \u001b[0mself\u001b[0m\u001b[0;34m.\u001b[0m\u001b[0mn_jobs\u001b[0m\u001b[0;34m\u001b[0m\u001b[0;34m\u001b[0m\u001b[0m\n\u001b[1;32m    491\u001b[0m         X, y = check_X_y(X, y, accept_sparse=['csr', 'csc', 'coo'],\n\u001b[0;32m--> 492\u001b[0;31m                          y_numeric=True, multi_output=True)\n\u001b[0m\u001b[1;32m    493\u001b[0m \u001b[0;34m\u001b[0m\u001b[0m\n\u001b[1;32m    494\u001b[0m         \u001b[0;32mif\u001b[0m \u001b[0msample_weight\u001b[0m \u001b[0;32mis\u001b[0m \u001b[0;32mnot\u001b[0m \u001b[0;32mNone\u001b[0m\u001b[0;34m:\u001b[0m\u001b[0;34m\u001b[0m\u001b[0;34m\u001b[0m\u001b[0m\n",
            "\u001b[0;32m/usr/local/lib/python3.6/dist-packages/sklearn/utils/validation.py\u001b[0m in \u001b[0;36mcheck_X_y\u001b[0;34m(X, y, accept_sparse, accept_large_sparse, dtype, order, copy, force_all_finite, ensure_2d, allow_nd, multi_output, ensure_min_samples, ensure_min_features, y_numeric, warn_on_dtype, estimator)\u001b[0m\n\u001b[1;32m    753\u001b[0m                     \u001b[0mensure_min_features\u001b[0m\u001b[0;34m=\u001b[0m\u001b[0mensure_min_features\u001b[0m\u001b[0;34m,\u001b[0m\u001b[0;34m\u001b[0m\u001b[0;34m\u001b[0m\u001b[0m\n\u001b[1;32m    754\u001b[0m                     \u001b[0mwarn_on_dtype\u001b[0m\u001b[0;34m=\u001b[0m\u001b[0mwarn_on_dtype\u001b[0m\u001b[0;34m,\u001b[0m\u001b[0;34m\u001b[0m\u001b[0;34m\u001b[0m\u001b[0m\n\u001b[0;32m--> 755\u001b[0;31m                     estimator=estimator)\n\u001b[0m\u001b[1;32m    756\u001b[0m     \u001b[0;32mif\u001b[0m \u001b[0mmulti_output\u001b[0m\u001b[0;34m:\u001b[0m\u001b[0;34m\u001b[0m\u001b[0;34m\u001b[0m\u001b[0m\n\u001b[1;32m    757\u001b[0m         y = check_array(y, 'csr', force_all_finite=True, ensure_2d=False,\n",
            "\u001b[0;32m/usr/local/lib/python3.6/dist-packages/sklearn/utils/validation.py\u001b[0m in \u001b[0;36mcheck_array\u001b[0;34m(array, accept_sparse, accept_large_sparse, dtype, order, copy, force_all_finite, ensure_2d, allow_nd, ensure_min_samples, ensure_min_features, warn_on_dtype, estimator)\u001b[0m\n\u001b[1;32m    569\u001b[0m         \u001b[0;31m# make sure we actually converted to numeric:\u001b[0m\u001b[0;34m\u001b[0m\u001b[0;34m\u001b[0m\u001b[0;34m\u001b[0m\u001b[0m\n\u001b[1;32m    570\u001b[0m         \u001b[0;32mif\u001b[0m \u001b[0mdtype_numeric\u001b[0m \u001b[0;32mand\u001b[0m \u001b[0marray\u001b[0m\u001b[0;34m.\u001b[0m\u001b[0mdtype\u001b[0m\u001b[0;34m.\u001b[0m\u001b[0mkind\u001b[0m \u001b[0;34m==\u001b[0m \u001b[0;34m\"O\"\u001b[0m\u001b[0;34m:\u001b[0m\u001b[0;34m\u001b[0m\u001b[0;34m\u001b[0m\u001b[0m\n\u001b[0;32m--> 571\u001b[0;31m             \u001b[0marray\u001b[0m \u001b[0;34m=\u001b[0m \u001b[0marray\u001b[0m\u001b[0;34m.\u001b[0m\u001b[0mastype\u001b[0m\u001b[0;34m(\u001b[0m\u001b[0mnp\u001b[0m\u001b[0;34m.\u001b[0m\u001b[0mfloat64\u001b[0m\u001b[0;34m)\u001b[0m\u001b[0;34m\u001b[0m\u001b[0;34m\u001b[0m\u001b[0m\n\u001b[0m\u001b[1;32m    572\u001b[0m         \u001b[0;32mif\u001b[0m \u001b[0;32mnot\u001b[0m \u001b[0mallow_nd\u001b[0m \u001b[0;32mand\u001b[0m \u001b[0marray\u001b[0m\u001b[0;34m.\u001b[0m\u001b[0mndim\u001b[0m \u001b[0;34m>=\u001b[0m \u001b[0;36m3\u001b[0m\u001b[0;34m:\u001b[0m\u001b[0;34m\u001b[0m\u001b[0;34m\u001b[0m\u001b[0m\n\u001b[1;32m    573\u001b[0m             raise ValueError(\"Found array with dim %d. %s expected <= 2.\"\n",
            "\u001b[0;31mValueError\u001b[0m: could not convert string to float: 'None'"
          ]
        }
      ]
    },
    {
      "cell_type": "code",
      "metadata": {
        "id": "X6p4Sqrjp6X8",
        "colab_type": "code",
        "colab": {
          "base_uri": "https://localhost:8080/",
          "height": 282
        },
        "outputId": "80690989-6fc9-4a27-bcea-f1a52681df18"
      },
      "source": [
        ""
      ],
      "execution_count": 24,
      "outputs": [
        {
          "output_type": "execute_result",
          "data": {
            "text/plain": [
              "<matplotlib.axes._subplots.AxesSubplot at 0x7fc90742d8d0>"
            ]
          },
          "metadata": {
            "tags": []
          },
          "execution_count": 24
        },
        {
          "output_type": "display_data",
          "data": {
            "image/png": "[encoded data removed]",
            "text/plain": [
              "<Figure size 432x288 with 1 Axes>"
            ]
          },
          "metadata": {
            "tags": [],
            "needs_background": "light"
          }
        }
      ]
    },
    {
      "cell_type": "code",
      "metadata": {
        "id": "49GqeitjrPjl",
        "colab_type": "code",
        "colab": {}
      },
      "source": [
        ""
      ],
      "execution_count": null,
      "outputs": []
    }
  ]
}