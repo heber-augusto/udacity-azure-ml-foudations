{
  "nbformat": 4,
  "nbformat_minor": 0,
  "metadata": {
    "colab": {
      "name": "lab-import-transform-and-export-data.ipynb",
      "provenance": [],
      "collapsed_sections": [],
      "authorship_tag": "ABX9TyM5bVrDoE83tzkVdaWWSxPt",
      "include_colab_link": true
    },
    "kernelspec": {
      "name": "python3",
      "display_name": "Python 3"
    }
  },
  "cells": [
    {
      "cell_type": "markdown",
      "metadata": {
        "id": "view-in-github",
        "colab_type": "text"
      },
      "source": [
        "<a href=\"https://colab.research.google.com/github/heber-augusto/udacity-azure-ml-foudations/blob/master/lab_import_transform_and_export_data.ipynb\" target=\"_parent\"><img src=\"https://colab.research.google.com/assets/colab-badge.svg\" alt=\"Open In Colab\"/></a>"
      ]
    },
    {
      "cell_type": "markdown",
      "metadata": {
        "id": "7qXfQRooacEW",
        "colab_type": "text"
      },
      "source": [
        "This jupyter notebook was created to compare the effort of doing machine learing tasks without Azure Machine Learning Studio's tools.\n",
        "\n",
        "The goal at this notebook is to read, combine and do some transformation with 3 datasets:\n",
        "\n",
        " - crime-dirty (https://introtomlsampledata.blob.core.windows.net/data/crime-data/crime-dirty.csv);\n",
        " - crime-spring (https://introtomlsampledata.blob.core.windows.net/data/crime-data/crime-spring.csv);\n",
        " - crime-winter (https://introtomlsampledata.blob.core.windows.net/data/crime-data/crime-winter.csv).\n",
        "\n",
        "This notebook demonstrate:\n",
        "\n",
        "1. Getting the dataset and creating dataframe from csv file;\n",
        "1. Presents some dataset explorations to undestand data;\n",
        "1. Guarantee some column type consistency;\n",
        "1. Combine 3 datasets adding rows;\n",
        "1. Removing missing values and presents some final output datas.\n",
        "\n",
        "The output feature from this dataset is the TotalAmount\n"
      ]
    },
    {
      "cell_type": "markdown",
      "metadata": {
        "id": "OzXIfYBOeqW3",
        "colab_type": "text"
      },
      "source": [
        "**The cell bellow contains some libraries and some essencial defines for the tasks**\n",
        "\n",
        "*   pandas: create a dataframe from csv file, change column types, combine dataframes and clean missing data;\n",
        "* matplotlib: plot some results.\n",
        "\n"
      ]
    },
    {
      "cell_type": "code",
      "metadata": {
        "id": "B59OU7Mfadzg",
        "colab_type": "code",
        "colab": {}
      },
      "source": [
        "import pandas as pd\n",
        "import matplotlib.pyplot as plt\n",
        "\n",
        "\n",
        "url1=\"https://introtomlsampledata.blob.core.windows.net/data/crime-data/crime-dirty.csv\"\n",
        "url2=\"https://introtomlsampledata.blob.core.windows.net/data/crime-data/crime-spring.csv\"\n",
        "url3=\"https://introtomlsampledata.blob.core.windows.net/data/crime-data/crime-winter.csv\"\n",
        "\n",
        "\n",
        "\n"
      ],
      "execution_count": 10,
      "outputs": []
    },
    {
      "cell_type": "markdown",
      "metadata": {
        "id": "LumMq9_5ddWo",
        "colab_type": "text"
      },
      "source": [
        "**Step 1: Getting the dataset and creating dataframe from csv file**\n",
        "\n",
        "The pandas library has a method which does this: read_csv()\n",
        "\n",
        "So we will use it and pass the url "
      ]
    },
    {
      "cell_type": "code",
      "metadata": {
        "id": "qLvB2LlEe4iF",
        "colab_type": "code",
        "colab": {}
      },
      "source": [
        "crime_dirty = pd.read_csv(url1,header=1, sep='|', delimiter='|')\n",
        "crime_spring = pd.read_csv(url2)\n",
        "crime_winter = pd.read_csv(url3)\n"
      ],
      "execution_count": 11,
      "outputs": []
    },
    {
      "cell_type": "markdown",
      "metadata": {
        "id": "BlUx_OXUhB5A",
        "colab_type": "text"
      },
      "source": [
        "**Step 2: Some dataset explorations to understand data**\n",
        "\n",
        "The following 2 cells presents:\n",
        " \n",
        "*  Some basic statics information (using dataframe describe method)\n",
        "method);\n",
        "*  Some values distribution using hist method;\n",
        "*  Count number of missing values for each column (using isnan).\n",
        "\n",
        "A lot of others analysis can be done but I will list just this methods outputs.\n",
        "\n"
      ]
    },
    {
      "cell_type": "code",
      "metadata": {
        "id": "8b4p7091e7GD",
        "colab_type": "code",
        "colab": {
          "base_uri": "https://localhost:8080/",
          "height": 297
        },
        "outputId": "0296e0e2-40a5-4737-ca80-f4ea99989464"
      },
      "source": [
        "crime_dirty.describe()"
      ],
      "execution_count": 12,
      "outputs": [
        {
          "output_type": "execute_result",
          "data": {
            "text/html": [
              "<div>\n",
              "<style scoped>\n",
              "    .dataframe tbody tr th:only-of-type {\n",
              "        vertical-align: middle;\n",
              "    }\n",
              "\n",
              "    .dataframe tbody tr th {\n",
              "        vertical-align: top;\n",
              "    }\n",
              "\n",
              "    .dataframe thead th {\n",
              "        text-align: right;\n",
              "    }\n",
              "</style>\n",
              "<table border=\"1\" class=\"dataframe\">\n",
              "  <thead>\n",
              "    <tr style=\"text-align: right;\">\n",
              "      <th></th>\n",
              "      <th>ID</th>\n",
              "      <th>IUCR</th>\n",
              "      <th>Beat</th>\n",
              "      <th>District</th>\n",
              "      <th>Ward</th>\n",
              "      <th>Community Area</th>\n",
              "      <th>X Coordinate</th>\n",
              "      <th>Y Coordinate</th>\n",
              "      <th>Year</th>\n",
              "      <th>Latitude</th>\n",
              "      <th>Longitude</th>\n",
              "    </tr>\n",
              "  </thead>\n",
              "  <tbody>\n",
              "    <tr>\n",
              "      <th>count</th>\n",
              "      <td>1.000000e+01</td>\n",
              "      <td>10.000000</td>\n",
              "      <td>10.000000</td>\n",
              "      <td>9.000000</td>\n",
              "      <td>10.000000</td>\n",
              "      <td>10.000000</td>\n",
              "      <td>9.000000e+00</td>\n",
              "      <td>9.000000e+00</td>\n",
              "      <td>10.0</td>\n",
              "      <td>9.000000</td>\n",
              "      <td>9.000000</td>\n",
              "    </tr>\n",
              "    <tr>\n",
              "      <th>mean</th>\n",
              "      <td>1.014006e+07</td>\n",
              "      <td>1008.700000</td>\n",
              "      <td>1263.400000</td>\n",
              "      <td>13.222222</td>\n",
              "      <td>29.500000</td>\n",
              "      <td>32.300000</td>\n",
              "      <td>1.157454e+06</td>\n",
              "      <td>1.898273e+06</td>\n",
              "      <td>2015.0</td>\n",
              "      <td>41.876613</td>\n",
              "      <td>-87.697370</td>\n",
              "    </tr>\n",
              "    <tr>\n",
              "      <th>std</th>\n",
              "      <td>4.098057e+02</td>\n",
              "      <td>435.055565</td>\n",
              "      <td>633.147552</td>\n",
              "      <td>6.098725</td>\n",
              "      <td>14.167647</td>\n",
              "      <td>23.281132</td>\n",
              "      <td>1.405204e+04</td>\n",
              "      <td>3.773324e+04</td>\n",
              "      <td>0.0</td>\n",
              "      <td>0.103645</td>\n",
              "      <td>0.051257</td>\n",
              "    </tr>\n",
              "    <tr>\n",
              "      <th>min</th>\n",
              "      <td>1.013970e+07</td>\n",
              "      <td>460.000000</td>\n",
              "      <td>524.000000</td>\n",
              "      <td>5.000000</td>\n",
              "      <td>9.000000</td>\n",
              "      <td>1.000000</td>\n",
              "      <td>1.129230e+06</td>\n",
              "      <td>1.826485e+06</td>\n",
              "      <td>2015.0</td>\n",
              "      <td>41.679311</td>\n",
              "      <td>-87.800175</td>\n",
              "    </tr>\n",
              "    <tr>\n",
              "      <th>25%</th>\n",
              "      <td>1.013976e+07</td>\n",
              "      <td>662.500000</td>\n",
              "      <td>845.750000</td>\n",
              "      <td>9.000000</td>\n",
              "      <td>18.000000</td>\n",
              "      <td>13.750000</td>\n",
              "      <td>1.152687e+06</td>\n",
              "      <td>1.879658e+06</td>\n",
              "      <td>2015.0</td>\n",
              "      <td>41.825501</td>\n",
              "      <td>-87.715029</td>\n",
              "    </tr>\n",
              "    <tr>\n",
              "      <th>50%</th>\n",
              "      <td>1.013983e+07</td>\n",
              "      <td>975.000000</td>\n",
              "      <td>1118.000000</td>\n",
              "      <td>12.000000</td>\n",
              "      <td>30.500000</td>\n",
              "      <td>28.500000</td>\n",
              "      <td>1.160997e+06</td>\n",
              "      <td>1.901632e+06</td>\n",
              "      <td>2015.0</td>\n",
              "      <td>41.885610</td>\n",
              "      <td>-87.685233</td>\n",
              "    </tr>\n",
              "    <tr>\n",
              "      <th>75%</th>\n",
              "      <td>1.014035e+07</td>\n",
              "      <td>1317.500000</td>\n",
              "      <td>1592.500000</td>\n",
              "      <td>16.000000</td>\n",
              "      <td>40.000000</td>\n",
              "      <td>53.000000</td>\n",
              "      <td>1.167370e+06</td>\n",
              "      <td>1.932394e+06</td>\n",
              "      <td>2015.0</td>\n",
              "      <td>41.970100</td>\n",
              "      <td>-87.659550</td>\n",
              "    </tr>\n",
              "    <tr>\n",
              "      <th>max</th>\n",
              "      <td>1.014087e+07</td>\n",
              "      <td>1811.000000</td>\n",
              "      <td>2431.000000</td>\n",
              "      <td>24.000000</td>\n",
              "      <td>49.000000</td>\n",
              "      <td>63.000000</td>\n",
              "      <td>1.172409e+06</td>\n",
              "      <td>1.946271e+06</td>\n",
              "      <td>2015.0</td>\n",
              "      <td>42.008124</td>\n",
              "      <td>-87.644545</td>\n",
              "    </tr>\n",
              "  </tbody>\n",
              "</table>\n",
              "</div>"
            ],
            "text/plain": [
              "                 ID         IUCR         Beat  ...    Year   Latitude  Longitude\n",
              "count  1.000000e+01    10.000000    10.000000  ...    10.0   9.000000   9.000000\n",
              "mean   1.014006e+07  1008.700000  1263.400000  ...  2015.0  41.876613 -87.697370\n",
              "std    4.098057e+02   435.055565   633.147552  ...     0.0   0.103645   0.051257\n",
              "min    1.013970e+07   460.000000   524.000000  ...  2015.0  41.679311 -87.800175\n",
              "25%    1.013976e+07   662.500000   845.750000  ...  2015.0  41.825501 -87.715029\n",
              "50%    1.013983e+07   975.000000  1118.000000  ...  2015.0  41.885610 -87.685233\n",
              "75%    1.014035e+07  1317.500000  1592.500000  ...  2015.0  41.970100 -87.659550\n",
              "max    1.014087e+07  1811.000000  2431.000000  ...  2015.0  42.008124 -87.644545\n",
              "\n",
              "[8 rows x 11 columns]"
            ]
          },
          "metadata": {
            "tags": []
          },
          "execution_count": 12
        }
      ]
    },
    {
      "cell_type": "code",
      "metadata": {
        "id": "fnrzme-4fvNU",
        "colab_type": "code",
        "colab": {
          "base_uri": "https://localhost:8080/",
          "height": 186
        },
        "outputId": "6e424949-f025-47bd-f911-23e4abddf5ec"
      },
      "source": [
        "columns = ['ID','IUCR','Beat', 'District', 'Ward', 'Community Area', 'X Coordinate', 'Y Coordinate',\t'Year', 'Latitude','Longitude']\n",
        "sub_plts = crime_dirty[columns].hist(\n",
        "    figsize=(24, 2),\n",
        "    layout =(1, len(columns)) \n",
        "    )\n"
      ],
      "execution_count": 22,
      "outputs": [
        {
          "output_type": "display_data",
          "data": {
            "image/png": "[encoded data removed]",
            "text/plain": [
              "<Figure size 1728x144 with 11 Axes>"
            ]
          },
          "metadata": {
            "tags": [],
            "needs_background": "light"
          }
        }
      ]
    },
    {
      "cell_type": "code",
      "metadata": {
        "id": "QGffzcp9l70q",
        "colab_type": "code",
        "colab": {
          "base_uri": "https://localhost:8080/",
          "height": 345
        },
        "outputId": "8780f960-7a71-42fa-bbb6-96fead65a3f8"
      },
      "source": [
        "# hist method fail for string columns so, as oriented at the link bellow, I used\n",
        "# plot method with bar kind and \n",
        "# https://stackoverflow.com/questions/14992644/turn-pandas-dataframe-of-strings-into-histogram\n",
        "string_columns = ['Description', 'Location Description', 'Domestic', 'Location', 'Updated On', 'Arrest']\n",
        "sub_plts= crime_dirty[string_columns].apply(pd.value_counts).plot(\n",
        "    kind='bar', \n",
        "    subplots=True, \n",
        "    figsize=(24, 5), \n",
        "    layout =(2, len(string_columns)))\n"
      ],
      "execution_count": 30,
      "outputs": [
        {
          "output_type": "display_data",
          "data": {
            "image/png": "[encoded data removed]",
            "text/plain": [
              "<Figure size 1728x360 with 12 Axes>"
            ]
          },
          "metadata": {
            "tags": [],
            "needs_background": "light"
          }
        }
      ]
    },
    {
      "cell_type": "code",
      "metadata": {
        "id": "DVzvmtQHgUHh",
        "colab_type": "code",
        "colab": {
          "base_uri": "https://localhost:8080/",
          "height": 408
        },
        "outputId": "20e281c6-9ded-4a65-a1f3-685d824ad976"
      },
      "source": [
        "#Show the number of missing values at each column\n",
        "crime_dirty.isna().sum()"
      ],
      "execution_count": 24,
      "outputs": [
        {
          "output_type": "execute_result",
          "data": {
            "text/plain": [
              "ID                      0\n",
              "Case Number             0\n",
              "Date                    0\n",
              "Block                   0\n",
              "IUCR                    0\n",
              "Primary Type            0\n",
              "Description             0\n",
              "Location Description    0\n",
              "Arrest                  0\n",
              "Domestic                0\n",
              "Beat                    0\n",
              "District                1\n",
              "Ward                    0\n",
              "Community Area          0\n",
              "FBI Code                0\n",
              "X Coordinate            1\n",
              "Y Coordinate            1\n",
              "Year                    0\n",
              "Updated On              0\n",
              "Latitude                1\n",
              "Longitude               1\n",
              "Location                1\n",
              "dtype: int64"
            ]
          },
          "metadata": {
            "tags": []
          },
          "execution_count": 24
        }
      ]
    },
    {
      "cell_type": "markdown",
      "metadata": {
        "id": "6LcrvuTCkpQc",
        "colab_type": "text"
      },
      "source": [
        "**Setp 3: Guarantee some column type consistency;**\n",
        "\n",
        "For the splitting task we will use train_test_split scikit-learn method\n",
        "The dataframe was splitted considering 70% of it for trainning and the rest to evaluate the results.\n"
      ]
    },
    {
      "cell_type": "code",
      "metadata": {
        "id": "-eC_UQa0j3qC",
        "colab_type": "code",
        "colab": {}
      },
      "source": [
        "crime_dirty['FBI Code']  = crime_dirty['FBI Code'].astype(str)\n",
        "crime_spring['FBI Code'] = crime_spring['FBI Code'].astype(str)\n",
        "crime_winter['FBI Code'] = crime_winter['FBI Code'].astype(str)"
      ],
      "execution_count": 31,
      "outputs": []
    },
    {
      "cell_type": "markdown",
      "metadata": {
        "id": "b3JU21fbqWxy",
        "colab_type": "text"
      },
      "source": [
        "**Step 4: Combine 3 datasets adding rows**\n",
        "\n",
        "Simple rows addition using some pandas operations\n"
      ]
    },
    {
      "cell_type": "code",
      "metadata": {
        "id": "dxi8gkoqm7YP",
        "colab_type": "code",
        "colab": {}
      },
      "source": [
        "add_result1 = crime_winter.append(crime_spring, ignore_index = True)\n",
        "add_result2 = add_result1.append(crime_dirty, ignore_index = True)\n",
        "\n"
      ],
      "execution_count": 38,
      "outputs": []
    },
    {
      "cell_type": "markdown",
      "metadata": {
        "id": "VmJ-BtmrlGNK",
        "colab_type": "text"
      },
      "source": [
        "**Step5: Removing missing values and presents some final output datas**\n",
        "This cell uses some dataframes methods to count number of na values, \n",
        "calculate mean and fill na values with it.\n"
      ]
    },
    {
      "cell_type": "code",
      "metadata": {
        "id": "49GqeitjrPjl",
        "colab_type": "code",
        "colab": {}
      },
      "source": [
        "nan_count_values = add_result2.isna().sum()\n",
        "number_of_rows   = len(add_result2.index)\n",
        "min_threshold = 0.1\n",
        "max_threshold = 0.5\n",
        "# check for threashold limits and replace nan values with mean\n",
        "for column in ['X Coordinate', 'Y Coordinate']:\n",
        "    number_of_nan_values = nan_count_values[column]\n",
        "    # calculate nan values ratio to check threshold\n",
        "    nan_values_ratio = number_of_nan_values / number_of_rows\n",
        "    if (nan_values_ratio > min_threshold) and \\\n",
        "      (nan_values_ratio < max_threshold):\n",
        "        add_result2[column] = add_result2[column].fillna(\n",
        "            add_result2[column].mean())\n",
        "  "
      ],
      "execution_count": 73,
      "outputs": []
    },
    {
      "cell_type": "code",
      "metadata": {
        "id": "uya_-4jzqM10",
        "colab_type": "code",
        "colab": {
          "base_uri": "https://localhost:8080/",
          "height": 297
        },
        "outputId": "d70b8a1c-3096-4a8f-fb91-fd82e49de843"
      },
      "source": [
        "add_result2.describe()"
      ],
      "execution_count": 74,
      "outputs": [
        {
          "output_type": "execute_result",
          "data": {
            "text/html": [
              "<div>\n",
              "<style scoped>\n",
              "    .dataframe tbody tr th:only-of-type {\n",
              "        vertical-align: middle;\n",
              "    }\n",
              "\n",
              "    .dataframe tbody tr th {\n",
              "        vertical-align: top;\n",
              "    }\n",
              "\n",
              "    .dataframe thead th {\n",
              "        text-align: right;\n",
              "    }\n",
              "</style>\n",
              "<table border=\"1\" class=\"dataframe\">\n",
              "  <thead>\n",
              "    <tr style=\"text-align: right;\">\n",
              "      <th></th>\n",
              "      <th>ID</th>\n",
              "      <th>IUCR</th>\n",
              "      <th>Beat</th>\n",
              "      <th>District</th>\n",
              "      <th>Ward</th>\n",
              "      <th>Community Area</th>\n",
              "      <th>X Coordinate</th>\n",
              "      <th>Y Coordinate</th>\n",
              "      <th>Year</th>\n",
              "      <th>Latitude</th>\n",
              "      <th>Longitude</th>\n",
              "    </tr>\n",
              "  </thead>\n",
              "  <tbody>\n",
              "    <tr>\n",
              "      <th>count</th>\n",
              "      <td>3.000000e+01</td>\n",
              "      <td>30.000000</td>\n",
              "      <td>30.000000</td>\n",
              "      <td>29.000000</td>\n",
              "      <td>30.000000</td>\n",
              "      <td>30.000000</td>\n",
              "      <td>3.000000e+01</td>\n",
              "      <td>3.000000e+01</td>\n",
              "      <td>30.000000</td>\n",
              "      <td>20.000000</td>\n",
              "      <td>20.000000</td>\n",
              "    </tr>\n",
              "    <tr>\n",
              "      <th>mean</th>\n",
              "      <td>1.034787e+07</td>\n",
              "      <td>1210.733333</td>\n",
              "      <td>1253.700000</td>\n",
              "      <td>12.551724</td>\n",
              "      <td>24.333333</td>\n",
              "      <td>41.733333</td>\n",
              "      <td>1.162684e+06</td>\n",
              "      <td>1.884247e+06</td>\n",
              "      <td>2015.666667</td>\n",
              "      <td>41.838015</td>\n",
              "      <td>-87.678575</td>\n",
              "    </tr>\n",
              "    <tr>\n",
              "      <th>std</th>\n",
              "      <td>1.599503e+05</td>\n",
              "      <td>1011.414269</td>\n",
              "      <td>640.851543</td>\n",
              "      <td>6.367250</td>\n",
              "      <td>14.355903</td>\n",
              "      <td>24.002778</td>\n",
              "      <td>1.175663e+04</td>\n",
              "      <td>2.890606e+04</td>\n",
              "      <td>0.479463</td>\n",
              "      <td>0.098176</td>\n",
              "      <td>0.052716</td>\n",
              "    </tr>\n",
              "    <tr>\n",
              "      <th>min</th>\n",
              "      <td>1.013970e+07</td>\n",
              "      <td>460.000000</td>\n",
              "      <td>413.000000</td>\n",
              "      <td>4.000000</td>\n",
              "      <td>1.000000</td>\n",
              "      <td>1.000000</td>\n",
              "      <td>1.129230e+06</td>\n",
              "      <td>1.826485e+06</td>\n",
              "      <td>2015.000000</td>\n",
              "      <td>41.679311</td>\n",
              "      <td>-87.800175</td>\n",
              "    </tr>\n",
              "    <tr>\n",
              "      <th>25%</th>\n",
              "      <td>1.014041e+07</td>\n",
              "      <td>667.500000</td>\n",
              "      <td>824.000000</td>\n",
              "      <td>8.000000</td>\n",
              "      <td>12.500000</td>\n",
              "      <td>24.000000</td>\n",
              "      <td>1.159826e+06</td>\n",
              "      <td>1.866753e+06</td>\n",
              "      <td>2015.000000</td>\n",
              "      <td>41.757966</td>\n",
              "      <td>-87.705269</td>\n",
              "    </tr>\n",
              "    <tr>\n",
              "      <th>50%</th>\n",
              "      <td>1.037945e+07</td>\n",
              "      <td>975.000000</td>\n",
              "      <td>1076.000000</td>\n",
              "      <td>11.000000</td>\n",
              "      <td>22.500000</td>\n",
              "      <td>48.500000</td>\n",
              "      <td>1.162684e+06</td>\n",
              "      <td>1.884247e+06</td>\n",
              "      <td>2016.000000</td>\n",
              "      <td>41.831472</td>\n",
              "      <td>-87.679083</td>\n",
              "    </tr>\n",
              "    <tr>\n",
              "      <th>75%</th>\n",
              "      <td>1.051240e+07</td>\n",
              "      <td>1153.750000</td>\n",
              "      <td>1696.750000</td>\n",
              "      <td>17.000000</td>\n",
              "      <td>36.250000</td>\n",
              "      <td>62.500000</td>\n",
              "      <td>1.166287e+06</td>\n",
              "      <td>1.899071e+06</td>\n",
              "      <td>2016.000000</td>\n",
              "      <td>41.906668</td>\n",
              "      <td>-87.653893</td>\n",
              "    </tr>\n",
              "    <tr>\n",
              "      <th>max</th>\n",
              "      <td>1.053506e+07</td>\n",
              "      <td>5002.000000</td>\n",
              "      <td>2522.000000</td>\n",
              "      <td>25.000000</td>\n",
              "      <td>49.000000</td>\n",
              "      <td>77.000000</td>\n",
              "      <td>1.192434e+06</td>\n",
              "      <td>1.946271e+06</td>\n",
              "      <td>2016.000000</td>\n",
              "      <td>42.008124</td>\n",
              "      <td>-87.570656</td>\n",
              "    </tr>\n",
              "  </tbody>\n",
              "</table>\n",
              "</div>"
            ],
            "text/plain": [
              "                 ID         IUCR  ...   Latitude  Longitude\n",
              "count  3.000000e+01    30.000000  ...  20.000000  20.000000\n",
              "mean   1.034787e+07  1210.733333  ...  41.838015 -87.678575\n",
              "std    1.599503e+05  1011.414269  ...   0.098176   0.052716\n",
              "min    1.013970e+07   460.000000  ...  41.679311 -87.800175\n",
              "25%    1.014041e+07   667.500000  ...  41.757966 -87.705269\n",
              "50%    1.037945e+07   975.000000  ...  41.831472 -87.679083\n",
              "75%    1.051240e+07  1153.750000  ...  41.906668 -87.653893\n",
              "max    1.053506e+07  5002.000000  ...  42.008124 -87.570656\n",
              "\n",
              "[8 rows x 11 columns]"
            ]
          },
          "metadata": {
            "tags": []
          },
          "execution_count": 74
        }
      ]
    },
    {
      "cell_type": "code",
      "metadata": {
        "id": "2sLZIDog7xsV",
        "colab_type": "code",
        "colab": {
          "base_uri": "https://localhost:8080/",
          "height": 186
        },
        "outputId": "917f92ea-7b0f-4b36-fcf5-541255620801"
      },
      "source": [
        "columns = ['ID','IUCR','Beat', 'District', 'Ward', 'Community Area', 'X Coordinate', 'Y Coordinate',\t'Year', 'Latitude','Longitude']\n",
        "sub_plts = add_result2[columns].hist(\n",
        "    figsize=(24, 2),\n",
        "    layout =(1, len(columns)) \n",
        "    )"
      ],
      "execution_count": 75,
      "outputs": [
        {
          "output_type": "display_data",
          "data": {
            "image/png": "[encoded data removed]",
            "text/plain": [
              "<Figure size 1728x144 with 11 Axes>"
            ]
          },
          "metadata": {
            "tags": [],
            "needs_background": "light"
          }
        }
      ]
    },
    {
      "cell_type": "code",
      "metadata": {
        "id": "hu5Orz-78hnq",
        "colab_type": "code",
        "colab": {}
      },
      "source": [
        ""
      ],
      "execution_count": null,
      "outputs": []
    }
  ]
}